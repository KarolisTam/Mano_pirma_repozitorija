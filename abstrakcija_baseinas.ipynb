{
 "cells": [
  {
   "attachments": {},
   "cell_type": "markdown",
   "metadata": {},
   "source": [
    "### uzduotis\n",
    "\n",
    " Parašykite klasę \"Baseinas\", kuri saugo informaciją apie vandens talpą ir dabartinį kiekį baseine.\n",
    "\n",
    " Klasė turi turėti metodus vandens papildymui ir nuleidimui bei esamo vandens kiekio patikrinimui. Vandens kiekio keitimui panaudokite abstraktų metodą.\n",
    "\n",
    " Sukurkite objektą ir kelis kartus iškvieskite klasės metodus."
   ]
  },
  {
   "cell_type": "code",
   "execution_count": 23,
   "metadata": {},
   "outputs": [
    {
     "name": "stdout",
     "output_type": "stream",
     "text": [
      "baseino talap: 3000 L, siuo metu baseinas uzpildytas: 200 L\n"
     ]
    }
   ],
   "source": [
    "class Baseinas:\n",
    "    def __init__(self, max_turis, atm_turis):\n",
    "        self.__max_turis = max_turis\n",
    "        self.__atm_turis = atm_turis\n",
    "\n",
    "    def __keitimas(self, kiekis):\n",
    "        self.__atm_turis += kiekis\n",
    "\n",
    "    def vandens_pilimas(self, kiekis):\n",
    "        if self.__atm_turis + abs(kiekis) <= self.__max_turis:\n",
    "            self.__keitimas(kiekis)\n",
    "            print(f'Jus ipylet {kiekis} l vandens')\n",
    "        else:\n",
    "            print(f'Negalima ipilti {kiekis} l, nes beks per virsu')\n",
    "\n",
    "    def vandens_nupilimas(self, kiekis):\n",
    "        if self.__atm_turis - abs(kiekis) >= 0:\n",
    "            self.__keitimas(-abs(kiekis))\n",
    "            print(f'Ispilta {kiekis} l vandens')\n",
    "        else:\n",
    "            print(f'Negalima ispilti vandens daugiau neigu yra')\n",
    "\n",
    "    def gauti_talpa(self):\n",
    "        return self.__max_turis\n",
    "    \n",
    "    def gauti_atm_turis(self):\n",
    "        return self.__atm_turis\n",
    "    \n",
    "baseinas = Baseinas(3000, 200)\n",
    "print(f'baseino talap: {baseinas.gauti_talpa()} L, siuo metu baseinas uzpildytas: {baseinas.gauti_atm_turis()} L')\n",
    "\n",
    "    "
   ]
  },
  {
   "cell_type": "code",
   "execution_count": 29,
   "metadata": {},
   "outputs": [
    {
     "name": "stdout",
     "output_type": "stream",
     "text": [
      "Negalima ispilti vandens daugiau neigu yra\n",
      "Negalima ipilti -9000 l, nes beks per virsu\n",
      "siuo metu baseine vandens yra: 2600L\n"
     ]
    }
   ],
   "source": [
    "baseinas.vandens_nupilimas(int(input(\"iveskite norima kiek ispilti vandens: \")))\n",
    "baseinas.vandens_pilimas(int(input(\"Iveskite norima kieki vandens pripilti: \")))\n",
    "print(f'siuo metu baseine vandens yra: {baseinas.gauti_atm_turis()}L')"
   ]
  }
 ],
 "metadata": {
  "kernelspec": {
   "display_name": "venv",
   "language": "python",
   "name": "python3"
  },
  "language_info": {
   "codemirror_mode": {
    "name": "ipython",
    "version": 3
   },
   "file_extension": ".py",
   "mimetype": "text/x-python",
   "name": "python",
   "nbconvert_exporter": "python",
   "pygments_lexer": "ipython3",
   "version": "3.11.1"
  },
  "orig_nbformat": 4
 },
 "nbformat": 4,
 "nbformat_minor": 2
}
