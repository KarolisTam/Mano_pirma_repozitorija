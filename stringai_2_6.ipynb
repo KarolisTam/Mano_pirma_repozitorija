{
 "cells": [
  {
   "cell_type": "code",
   "execution_count": 2,
   "metadata": {},
   "outputs": [
    {
     "name": "stdout",
     "output_type": "stream",
     "text": [
      "labas, pasauli!\n"
     ]
    }
   ],
   "source": [
    "sakinys = \"labas, pasauli!\"\n",
    "didziosios_raides = sakinys.upper()\n",
    "print(sakinys)"
   ]
  },
  {
   "cell_type": "code",
   "execution_count": 3,
   "metadata": {},
   "outputs": [
    {
     "name": "stdout",
     "output_type": "stream",
     "text": [
      "Pradinis tekstas: Aš esu studentas\n"
     ]
    }
   ],
   "source": [
    "# 1. Sukuriamas tekstas\n",
    "sakinys = \"Aš esu studentas\"\n",
    "print(\"Pradinis tekstas:\", sakinys)"
   ]
  },
  {
   "cell_type": "code",
   "execution_count": 4,
   "metadata": {},
   "outputs": [
    {
     "name": "stdout",
     "output_type": "stream",
     "text": [
      "Tekstas didžiosiomis raidėmis: AŠ ESU STUDENTAS\n"
     ]
    }
   ],
   "source": [
    "# 2. Upper metodas: pakeičia visas raides didžiosiomis raidėmis\n",
    "didziosios_raides = sakinys.upper()\n",
    "print(\"Tekstas didžiosiomis raidėmis:\", didziosios_raides)"
   ]
  },
  {
   "cell_type": "code",
   "execution_count": 5,
   "metadata": {},
   "outputs": [
    {
     "name": "stdout",
     "output_type": "stream",
     "text": [
      "Tekstas mažosiomis raidėmis: aš esu studentas\n"
     ]
    }
   ],
   "source": [
    "# 3. Lower metodas: pakeičia visas raides mažosiomis raidėmis\n",
    "mazosios_raides = sakinys.lower()\n",
    "print(\"Tekstas mažosiomis raidėmis:\", mazosios_raides)\n"
   ]
  },
  {
   "cell_type": "code",
   "execution_count": 6,
   "metadata": {},
   "outputs": [
    {
     "name": "stdout",
     "output_type": "stream",
     "text": [
      "Sąrašo sujungta eilutė: Aš esu studentas\n"
     ]
    }
   ],
   "source": [
    "# 4. Join metodas: sujungia eilučių sąrašą į vieną eilutę\n",
    "zodziu_sarasas = [\"Aš\", \"esu\", \"studentas\"]\n",
    "eilute = \" \".join(zodziu_sarasas)\n",
    "print(\"Sąrašo sujungta eilutė:\", eilute)\n"
   ]
  },
  {
   "cell_type": "code",
   "execution_count": 7,
   "metadata": {},
   "outputs": [
    {
     "name": "stdout",
     "output_type": "stream",
     "text": [
      "Sakinys padalintas į žodžius: ['Aš', 'esu', 'studentas']\n"
     ]
    }
   ],
   "source": [
    "# 5. Split metodas: skaido eilutę pagal nurodytą skyriklį ir grąžina sąrašą\n",
    "zodziu_sarasas = sakinys.split(\" \")\n",
    "print(\"Sakinys padalintas į žodžius:\", zodziu_sarasas)\n"
   ]
  },
  {
   "cell_type": "code",
   "execution_count": 8,
   "metadata": {},
   "outputs": [
    {
     "name": "stdout",
     "output_type": "stream",
     "text": [
      "Žodžio 'studentas' pozicija: 7\n"
     ]
    }
   ],
   "source": [
    "# 6. Find metodas: ieško nurodytos frazės ir grąžina jos poziciją\n",
    "pozicija = sakinys.find(\"studentas\")\n",
    "print(\"Žodžio 'studentas' pozicija:\", pozicija)"
   ]
  },
  {
   "cell_type": "code",
   "execution_count": 9,
   "metadata": {},
   "outputs": [
    {
     "name": "stdout",
     "output_type": "stream",
     "text": [
      "Tekstas su pakeistu žodžiu: Aš esu programuotojas\n"
     ]
    }
   ],
   "source": [
    "# 7. Replace metodas: pakeičia nurodytą frazę kitu tekstu\n",
    "pakeistas_tekstas = sakinys.replace(\"studentas\", \"programuotojas\")\n",
    "print(\"Tekstas su pakeistu žodžiu:\", pakeistas_tekstas)"
   ]
  },
  {
   "cell_type": "code",
   "execution_count": 10,
   "metadata": {},
   "outputs": [
    {
     "name": "stdout",
     "output_type": "stream",
     "text": [
      "Sveiki, s ! Jūs sukaksite 100 metų 2115-aisiais.\n"
     ]
    }
   ],
   "source": [
    "vardas = input('Įveskite savo varda: ')\n",
    "metai = input('Įveskite savo amžiu: ')\n",
    "metai_iki_100 = 100 - int(metai)\n",
    "rezultatas = 2023 + metai_iki_100\n",
    "tekstas = \"Sveiki, {} ! Jūs sukaksite 100 metų {}-aisiais.\".format(vardas, rezultatas)\n",
    "print(tekstas)"
   ]
  },
  {
   "cell_type": "code",
   "execution_count": null,
   "metadata": {},
   "outputs": [],
   "source": []
  }
 ],
 "metadata": {
  "kernelspec": {
   "display_name": "venv",
   "language": "python",
   "name": "python3"
  },
  "language_info": {
   "codemirror_mode": {
    "name": "ipython",
    "version": 3
   },
   "file_extension": ".py",
   "mimetype": "text/x-python",
   "name": "python",
   "nbconvert_exporter": "python",
   "pygments_lexer": "ipython3",
   "version": "3.11.1"
  },
  "orig_nbformat": 4
 },
 "nbformat": 4,
 "nbformat_minor": 2
}
