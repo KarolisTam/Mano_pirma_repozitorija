{
 "cells": [
  {
   "cell_type": "code",
   "execution_count": 30,
   "metadata": {},
   "outputs": [
    {
     "name": "stdout",
     "output_type": "stream",
     "text": [
      "[7, 8, 17, 20, 34, 65, 66, 67, 69, 100]\n"
     ]
    }
   ],
   "source": [
    "import random\n",
    "\n",
    "def rusiuoti():\n",
    "    atsitiktiniai = [random.randint(1, 100) for _ in range(10)]\n",
    "    rusiuoti_skaiciai = sorted(atsitiktiniai)\n",
    "    print(rusiuoti_skaiciai)\n",
    "\n",
    "rusiuoti()"
   ]
  },
  {
   "cell_type": "code",
   "execution_count": 83,
   "metadata": {},
   "outputs": [
    {
     "name": "stdout",
     "output_type": "stream",
     "text": [
      "6\n",
      "Jus laimejote, jusu kauliukas issirideno: 6\n"
     ]
    }
   ],
   "source": [
    "import random\n",
    "\n",
    "for bandymas in range(3):\n",
    "    metimas = random.randint(1, 6)\n",
    "    print(metimas)\n",
    "    if metimas == 5:\n",
    "        print(f'Jus pralaimejote, jusu kauliukas issirideno: {metimas}')\n",
    "        break\n",
    "    else:\n",
    "        print(f'Jus laimejote, jusu kauliukas issirideno: {metimas}')\n",
    "    break"
   ]
  },
  {
   "cell_type": "code",
   "execution_count": 90,
   "metadata": {},
   "outputs": [
    {
     "name": "stdout",
     "output_type": "stream",
     "text": [
      "      May 2023\n",
      "Mo Tu We Th Fr Sa Su\n",
      " 1  2  3  4  5  6  7\n",
      " 8  9 10 11 12 13 14\n",
      "15 16 17 18 19 20 21\n",
      "22 23 24 25 26 27 28\n",
      "29 30 31\n",
      "\n",
      "Savaiigalio dienu skaicius siame menesyje: 8\n"
     ]
    }
   ],
   "source": [
    "import calendar\n",
    "\n",
    "def spausdinti(metai, menesis):\n",
    "    print(calendar.month(metai, menesis))\n",
    "\n",
    "    _, menesio_ilgis = calendar.monthrange(metai, menesis)\n",
    "\n",
    "    savaitgalio_dienos = 0\n",
    "    for diena in range(1, menesio_ilgis + 1):\n",
    "        savaites_dienos = calendar.weekday(metai, menesis, diena)\n",
    "        if savaites_dienos == 5 or savaites_dienos == 6:\n",
    "            savaitgalio_dienos += 1\n",
    "\n",
    "    print(f'Savaiigalio dienu skaicius siame menesyje: {savaitgalio_dienos}')\n",
    "\n",
    "spausdinti(2023, 5)    \n"
   ]
  }
 ],
 "metadata": {
  "kernelspec": {
   "display_name": "venv",
   "language": "python",
   "name": "python3"
  },
  "language_info": {
   "codemirror_mode": {
    "name": "ipython",
    "version": 3
   },
   "file_extension": ".py",
   "mimetype": "text/x-python",
   "name": "python",
   "nbconvert_exporter": "python",
   "pygments_lexer": "ipython3",
   "version": "3.11.1"
  },
  "orig_nbformat": 4
 },
 "nbformat": 4,
 "nbformat_minor": 2
}
