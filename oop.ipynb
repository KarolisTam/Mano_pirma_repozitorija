{
 "cells": [
  {
   "attachments": {},
   "cell_type": "markdown",
   "metadata": {},
   "source": [
    "## oop"
   ]
  },
  {
   "cell_type": "code",
   "execution_count": 11,
   "metadata": {},
   "outputs": [
    {
     "name": "stdout",
     "output_type": "stream",
     "text": [
      "{'Freelancer'} {1700}\n",
      "{'Karolis'} {'Tamulevičius'} {'Freelancer'} {3500}\n"
     ]
    }
   ],
   "source": [
    "class Darbuotojas:\n",
    "    vardas = ''\n",
    "    pavarde = ''\n",
    "    pareigos = ''\n",
    "    atlyginimas = 1700\n",
    "\n",
    "pirmas_darbuotoas = Darbuotojas()\n",
    "pirmas_darbuotoas.vardas = 'Karolis'\n",
    "pirmas_darbuotoas.pavarde = 'Tamulevičius'\n",
    "pirmas_darbuotoas.pareigos = 'Freelancer'\n",
    "pirmas_darbuotoas.atlyginimas \n",
    "print({pirmas_darbuotoas.pareigos}, {pirmas_darbuotoas.atlyginimas})\n",
    "pirmas_darbuotoas.atlyginimas = 3500\n",
    "print({pirmas_darbuotoas.vardas}, {pirmas_darbuotoas.pavarde}, {pirmas_darbuotoas.pareigos}, {pirmas_darbuotoas.atlyginimas})"
   ]
  },
  {
   "cell_type": "code",
   "execution_count": 34,
   "metadata": {},
   "outputs": [
    {
     "name": "stdout",
     "output_type": "stream",
     "text": [
      "Gyvūnas vardu Dante, 1 metų ir sveria 30 kg\n",
      "Gyvūnas vardu Dante, 1 metų ir sveria 33 kg\n",
      "Gyvūnas vardu Dante, 2 metų ir sveria 33 kg\n",
      "Gyvūnas vardu Dante, 2 metų ir sveria 31 kg\n"
     ]
    }
   ],
   "source": [
    "class Gyvunas:\n",
    "    def __init__(self, vardas, amzius, svoris):\n",
    "        self.vardas = vardas\n",
    "        self.amzius = amzius\n",
    "        self.svoris = svoris\n",
    "    \n",
    "    def padidinti_svori(self, kiek):\n",
    "        self.svoris += kiek\n",
    "    \n",
    "    def sumazinti_svori(self, kiek):\n",
    "        self.svoris -= kiek\n",
    "\n",
    "    def gimtadienis(self):\n",
    "        self.amzius += 1\n",
    "        \n",
    "    def __str__(self):\n",
    "        return f'Gyvūnas vardu {self.vardas}, {self.amzius} metų ir sveria {self.svoris} kg'\n",
    "\n",
    "gyvunas = Gyvunas('Dante', 1, 30)\n",
    "print(gyvunas)\n",
    "\n",
    "gyvunas.padidinti_svori(3)\n",
    "print(gyvunas)\n",
    "\n",
    "gyvunas.gimtadienis()\n",
    "print(gyvunas)\n",
    "\n",
    "gyvunas.sumazinti_svori(2)\n",
    "print(gyvunas)"
   ]
  },
  {
   "cell_type": "code",
   "execution_count": null,
   "metadata": {},
   "outputs": [],
   "source": [
    "## uzuodits 1\n",
    "class BankoKortele:\n",
    "    saksaitos_numeris = \"\"\n",
    "    savininkas =\"\"\n",
    "    __balanasas =\"\"\n",
    "    __pin = \"\"\n",
    "\n"
   ]
  }
 ],
 "metadata": {
  "kernelspec": {
   "display_name": "venv",
   "language": "python",
   "name": "python3"
  },
  "language_info": {
   "codemirror_mode": {
    "name": "ipython",
    "version": 3
   },
   "file_extension": ".py",
   "mimetype": "text/x-python",
   "name": "python",
   "nbconvert_exporter": "python",
   "pygments_lexer": "ipython3",
   "version": "3.11.1"
  },
  "orig_nbformat": 4
 },
 "nbformat": 4,
 "nbformat_minor": 2
}
