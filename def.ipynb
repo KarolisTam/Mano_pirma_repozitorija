{
 "cells": [
  {
   "attachments": {},
   "cell_type": "markdown",
   "metadata": {},
   "source": [
    "## Funkcijos"
   ]
  },
  {
   "cell_type": "code",
   "execution_count": 36,
   "metadata": {},
   "outputs": [
    {
     "name": "stdout",
     "output_type": "stream",
     "text": [
      "Pasirinktas skaicius nelyginis.\n"
     ]
    }
   ],
   "source": [
    "# #1\n",
    "# # skaicei = int(input('iveskite skaiciu: '))\n",
    "# def lyginis(skaicei):\n",
    "#     if skaicei % 2 == 0:\n",
    "#         print('Pasirinktas skaicius yra lyginis')\n",
    "#     else:\n",
    "#         print('Pasirinktas skaicius nelyginis.')\n",
    "# #lyginis(int(input('iveskite skaicius')))\n",
    "# lyginis(-9)"
   ]
  },
  {
   "cell_type": "code",
   "execution_count": 26,
   "metadata": {},
   "outputs": [
    {
     "name": "stdout",
     "output_type": "stream",
     "text": [
      "skaiciai neigiami\n"
     ]
    }
   ],
   "source": [
    "# #2\n",
    "# def lyginis_ne(skaiciasi):\n",
    "#     if skaiciasi < 0:\n",
    "#         print('skaiciai yra teigiami')\n",
    "#     else:\n",
    "#         print('skaiciai neigiami')\n",
    "\n",
    "# #lyginis_ne(int(input('iveskite skaicius')))"
   ]
  },
  {
   "cell_type": "code",
   "execution_count": 32,
   "metadata": {},
   "outputs": [
    {
     "data": {
      "text/plain": [
       "<function __main__.daugiau_maziau(skaicia, riba)>"
      ]
     },
     "execution_count": 32,
     "metadata": {},
     "output_type": "execute_result"
    }
   ],
   "source": [
    "# #3\n",
    "# #skaicia = int(input('iveskite skaiciu: '))\n",
    "# #riba = int(input('iveskite skaiciu: '))\n",
    "# def daugiau_maziau(skaicia, riba):\n",
    "#     if skaicia < riba:\n",
    "#         print(f'skaicius mazesnis nei nustatyta riba: {riba}')\n",
    "#     else:\n",
    "#         print(f'skaicius didneinis nei numatyta riba: {riba}')\n",
    "\n",
    "# daugiau_maziau"
   ]
  },
  {
   "cell_type": "code",
   "execution_count": 43,
   "metadata": {},
   "outputs": [
    {
     "name": "stdout",
     "output_type": "stream",
     "text": [
      "('kuku', 'ate', 'labas')\n"
     ]
    }
   ],
   "source": [
    "#1 Sukurkite funkciją, kuri priima sąrašą ir \n",
    "#grąžina naują sąrašą atvirkščia tvarka.\n",
    "\n",
    "\n",
    "sarasas = ('labas', 'ate', 'kuku')\n",
    "\n",
    "def atvirsksciai_sarasas(sarasas):\n",
    "    return sarasas[::-1]\n",
    "print(atvirsksciai_sarasas(sarasas))"
   ]
  },
  {
   "cell_type": "code",
   "execution_count": 48,
   "metadata": {},
   "outputs": [
    {
     "name": "stdout",
     "output_type": "stream",
     "text": [
      "6.0\n"
     ]
    }
   ],
   "source": [
    "#2 Sukurkite funkciją, kuri apskaičiuoja trikampio\n",
    "# plotą pagal kraštinių ilgius ir grąžina jį.\n",
    "\n",
    "\n",
    "\n",
    "def t_plotas(a, b, c):\n",
    "    s = (a + b + c) / 2\n",
    "    plotas = (s * (s -a) * (s - b) * (s - c)) ** 0.5\n",
    "    return plotas\n",
    "\n",
    "print(t_plotas(3, 4, 5))"
   ]
  },
  {
   "cell_type": "code",
   "execution_count": 49,
   "metadata": {},
   "outputs": [
    {
     "name": "stdout",
     "output_type": "stream",
     "text": [
      "['Svarbu', 'galėtų', 'galima', 'galima', 'žodyną']\n"
     ]
    }
   ],
   "source": [
    "#3 Sukurkite funkciją, kuri iš sąrašo išrenka žodžius,\n",
    "# kurie yra nurodyto ilgio ir grąžina sąrašą su tais žodžiais.\n",
    "ilgis = 6\n",
    "sakinys = \"Svarbu atkreipti dėmesį, kad grąžinamas objektas\\nturi būti išsaugotas kaip tuple arba sąrašas, kad galėtų būti naudojamas kaip toks, t.y. galima išgauti reikšmes su indeksavimu ar kitiems objektų manipuliacijoms, o ne kaip keli atskiri kintamieji. Taip pat galima naudoti ir žodyną\"\n",
    "def kvas(sakinys, ilgis):\n",
    "    zodziai = sakinys.split()\n",
    "    il_zodis = []\n",
    "    for zodis in zodziai:\n",
    "        if len(zodis) == ilgis:\n",
    "            il_zodis.append(zodis)\n",
    "    return il_zodis\n",
    "\n",
    "zodziai = kvas(sakinys, ilgis)\n",
    "\n",
    "print(zodziai)\n",
    "\n"
   ]
  },
  {
   "cell_type": "code",
   "execution_count": 57,
   "metadata": {},
   "outputs": [
    {
     "name": "stdout",
     "output_type": "stream",
     "text": [
      "9\n"
     ]
    }
   ],
   "source": [
    "#4 Sukurkite funkciją, kuri iš sąrašo išrenka didžiausią skaičių ir grąžina jį.\n",
    "skaiciai = [5, 4, 9, 3, 6]\n",
    "def d_skaicius(skaiciai):\n",
    "    didsk = skaiciai[0]\n",
    "    for skaicius in skaiciai:\n",
    "        if skaicius > didsk:\n",
    "            didsk = skaicius\n",
    "    return didsk\n",
    "didsk = d_skaicius(skaiciai)\n",
    "print(didsk)"
   ]
  },
  {
   "cell_type": "code",
   "execution_count": 59,
   "metadata": {},
   "outputs": [
    {
     "name": "stdout",
     "output_type": "stream",
     "text": [
      "['automobilis']\n"
     ]
    }
   ],
   "source": [
    "#5Sukurti funkciją, kuri iš žodžių sąrašo išrenka žodžius,\n",
    "# kurie prasideda nurodyta raide ir grąžina sąrašą su tais žodžiais.\n",
    "def pagal_raide(zodziai, raide):\n",
    "    raides_zodiai = []\n",
    "    for zodis in zodziai:\n",
    "        if zodis[0] == raide:\n",
    "            raides_zodiai.append(zodis)\n",
    "            return raides_zodiai\n",
    "zodziai = [\"automobilis\", \"arklys\", \"avokadas\", \"bananas\", \"briedis\"]\n",
    "raide = \"a\"\n",
    "a_zodziai = pagal_raide(zodziai, raide)\n",
    "print(a_zodziai)"
   ]
  },
  {
   "cell_type": "code",
   "execution_count": 60,
   "metadata": {},
   "outputs": [
    {
     "name": "stdout",
     "output_type": "stream",
     "text": [
      "['kuri', 'iš', 'žodžius,', 'lyginis,', 'ir', 'sąrašą', 'su', 'tais']\n"
     ]
    }
   ],
   "source": [
    "#6 Sukurkite funkciją, kuri iš eilutės išrenka visus žodžius, \n",
    "# kurių ilgis yra lyginis, ir grąžina sąrašą su tais žodžiais.\n",
    "\n",
    "\n",
    "def ilgio_zodis(tekstas):\n",
    "    zodziai = tekstas.split()\n",
    "    lyginio_ilgio_zodis = []\n",
    "    for zodis in zodziai:\n",
    "        if len(zodis) % 2 == 0:\n",
    "            lyginio_ilgio_zodis.append(zodis)\n",
    "    return lyginio_ilgio_zodis\n",
    "\n",
    "tekstas =  \"Sukurkite funkciją, kuri iš eilutės išrenka visus žodžius, kurių ilgis yra lyginis, ir grąžina sąrašą su tais žodžiais.\"\n",
    "lyginio_ilgio_zodis = ilgio_zodis(tekstas)\n",
    "print(lyginio_ilgio_zodis)"
   ]
  },
  {
   "attachments": {},
   "cell_type": "markdown",
   "metadata": {},
   "source": [
    "## nebutini argumentai"
   ]
  },
  {
   "cell_type": "code",
   "execution_count": 63,
   "metadata": {},
   "outputs": [
    {
     "data": {
      "text/plain": [
       "706.5"
      ]
     },
     "execution_count": 63,
     "metadata": {},
     "output_type": "execute_result"
    }
   ],
   "source": [
    "#  1 \n",
    "\n",
    "def apskiritimas(spindulys, pi=3.14):\n",
    "    plotas = pi * (spindulys ** 2)\n",
    "    return plotas\n",
    "apskiritimas(15)"
   ]
  },
  {
   "cell_type": "code",
   "execution_count": 66,
   "metadata": {},
   "outputs": [
    {
     "name": "stdout",
     "output_type": "stream",
     "text": [
      "{'atstumas': 720, 'sanaudos': 50.4, 'islaidos': 60.48}\n"
     ]
    }
   ],
   "source": [
    "#2\n",
    "\n",
    "def kelione(trukme, greitis, vartojimas=7, kuro_kaina=1.2):\n",
    "    atstumas = trukme * greitis\n",
    "    sanaudos = atstumas * vartojimas / 100\n",
    "    islaidos = sanaudos * kuro_kaina\n",
    "\n",
    "    return{\n",
    "        'atstumas': atstumas,\n",
    "        'sanaudos' : sanaudos,\n",
    "        'islaidos' : islaidos\n",
    "    }\n",
    "print(kelione(6, 120))"
   ]
  },
  {
   "cell_type": "code",
   "execution_count": 68,
   "metadata": {},
   "outputs": [
    {
     "name": "stdout",
     "output_type": "stream",
     "text": [
      "5\n",
      "10\n"
     ]
    }
   ],
   "source": [
    "# 1 Parašykite funkciją, kuri grąžina didžiausią *args elemento reikšmę.\n",
    "\n",
    "def didziausias(*args):\n",
    "    if len(args) == 0:\n",
    "        return None\n",
    "    didziausia_reiksme = args[0]\n",
    "    for arg in args:\n",
    "        if arg > didziausia_reiksme:\n",
    "            didziausia_reiksme = arg\n",
    "    return didziausia_reiksme\n",
    "\n",
    "print(didziausias(1, 2, 3, 4, 5))\n",
    "print(didziausias(-5, 10, 3, -2))"
   ]
  },
  {
   "cell_type": "code",
   "execution_count": 69,
   "metadata": {},
   "outputs": [
    {
     "name": "stdout",
     "output_type": "stream",
     "text": [
      "{'vardas': 'Karolis', 'amzius': 27, 'miestas': 'Kaunas', 'metai': 2023}\n",
      "{}\n"
     ]
    }
   ],
   "source": [
    "# 2 Parašykite funkciją, kuri grąžina tik **kwargs elemento raktus, kurie yra nurodyti šiame funkcijos kvietime\n",
    "\n",
    "def raktai(**kwargs):\n",
    "    nurodyti_raktai = {}\n",
    "    for key in kwargs:\n",
    "        if key in [\"vardas\", \"amzius\", \"miestas\"]:\n",
    "            nurodyti_raktai[key] = kwargs[key]\n",
    "    return nurodyti_raktai\n",
    "\n",
    "print(raktai(vardas=\"Karolis\", amzius=27, miestas=\"Kaunas\"))\n",
    "print(raktai(pavadinimas=\"Python\"))\n"
   ]
  },
  {
   "cell_type": "code",
   "execution_count": 72,
   "metadata": {},
   "outputs": [],
   "source": [
    "# 3 Parašykite funkciją, kuri sujungia *args sąrašą ir **kwargs reikšmes į vieną sarašą.\n",
    "\n",
    "def sujungtas_sarasas(*args, **kwargs):\n",
    "    visi_elementai = list(args)\n",
    "    visi_elementai += list(kwargs.values())\n",
    "    return visi_elementai\n"
   ]
  },
  {
   "cell_type": "code",
   "execution_count": 73,
   "metadata": {},
   "outputs": [
    {
     "name": "stdout",
     "output_type": "stream",
     "text": [
      "[100, 40, 33, 27, 99]\n"
     ]
    }
   ],
   "source": [
    "## 1\n",
    "skaicius = [1, 2, 3, 4, 5, 100, 40, 33,27, 99]\n",
    "didesni = list(filter(lambda x : x > 10, skaicius))\n",
    "print(didesni)"
   ]
  },
  {
   "cell_type": "code",
   "execution_count": 74,
   "metadata": {},
   "outputs": [
    {
     "name": "stdout",
     "output_type": "stream",
     "text": [
      "31.4\n"
     ]
    }
   ],
   "source": [
    "# 2\n",
    "vidurkis = lambda x: sum(x) / len(x)\n",
    "print(vidurkis(skaicius))"
   ]
  },
  {
   "cell_type": "code",
   "execution_count": 75,
   "metadata": {},
   "outputs": [
    {
     "name": "stdout",
     "output_type": "stream",
     "text": [
      "15\n"
     ]
    }
   ],
   "source": [
    "#3\n",
    "didziausias_skaicius = lambda x, y, z: max(x, y ,z)\n",
    "print(didziausias_skaicius(2, 15, 1))"
   ]
  }
 ],
 "metadata": {
  "kernelspec": {
   "display_name": "venv",
   "language": "python",
   "name": "python3"
  },
  "language_info": {
   "codemirror_mode": {
    "name": "ipython",
    "version": 3
   },
   "file_extension": ".py",
   "mimetype": "text/x-python",
   "name": "python",
   "nbconvert_exporter": "python",
   "pygments_lexer": "ipython3",
   "version": "3.11.1"
  },
  "orig_nbformat": 4
 },
 "nbformat": 4,
 "nbformat_minor": 2
}
