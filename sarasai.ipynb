{
 "cells": [
  {
   "attachments": {},
   "cell_type": "markdown",
   "metadata": {},
   "source": [
    "## Sarašas"
   ]
  },
  {
   "cell_type": "code",
   "execution_count": 1,
   "metadata": {},
   "outputs": [
    {
     "name": "stdout",
     "output_type": "stream",
     "text": [
      "['obuolys', 'apelsinas', 'bananas', 'kriause', 'kivis']\n"
     ]
    }
   ],
   "source": [
    "#1\n",
    "sarasas = ['obuolys', 'apelsinas', 'bananas', 'kriause','kivis']\n",
    "print(sarasas)"
   ]
  },
  {
   "cell_type": "code",
   "execution_count": 2,
   "metadata": {},
   "outputs": [
    {
     "name": "stdout",
     "output_type": "stream",
     "text": [
      "obuolys\n",
      "bananas\n",
      "kivis\n"
     ]
    }
   ],
   "source": [
    "#2\n",
    "print(sarasas[0])\n",
    "print(sarasas[2])\n",
    "print(sarasas[-1])"
   ]
  },
  {
   "cell_type": "code",
   "execution_count": 3,
   "metadata": {},
   "outputs": [
    {
     "name": "stdout",
     "output_type": "stream",
     "text": [
      "['obuolys', 'apelsinas', 'bananas']\n",
      "['kriause', 'kivis']\n",
      "['apelsinas', 'bananas']\n",
      "['obuolys', 'bananas', 'kivis']\n"
     ]
    }
   ],
   "source": [
    "#3\n",
    "print(sarasas[:3])\n",
    "print(sarasas[3:])\n",
    "print(sarasas[1:3])\n",
    "print(sarasas[::2])"
   ]
  },
  {
   "cell_type": "code",
   "execution_count": 4,
   "metadata": {},
   "outputs": [
    {
     "name": "stdout",
     "output_type": "stream",
     "text": [
      "['obuolys', 'apelsinas', 'bananas', 'kriause', 'kivis', 'persimonas']\n"
     ]
    }
   ],
   "source": [
    "#4.1\n",
    "sarasas.append('persimonas')\n",
    "print(sarasas)"
   ]
  },
  {
   "cell_type": "code",
   "execution_count": 5,
   "metadata": {},
   "outputs": [
    {
     "name": "stdout",
     "output_type": "stream",
     "text": [
      "['obuolys', 'apelsinas', 'bananas', 'abrikosas', 'kriause', 'kivis', 'persimonas']\n"
     ]
    }
   ],
   "source": [
    "#4.2\n",
    "sarasas.insert(3, 'abrikosas')\n",
    "print(sarasas)"
   ]
  },
  {
   "cell_type": "code",
   "execution_count": 6,
   "metadata": {},
   "outputs": [
    {
     "name": "stdout",
     "output_type": "stream",
     "text": [
      "['obuolys', 'melionas', 'bananas', 'abrikosas', 'kriause', 'kivis', 'persimonas']\n"
     ]
    }
   ],
   "source": [
    "#4.3\n",
    "sarasas[1] = 'melionas'\n",
    "print(sarasas)"
   ]
  },
  {
   "cell_type": "code",
   "execution_count": 7,
   "metadata": {},
   "outputs": [
    {
     "name": "stdout",
     "output_type": "stream",
     "text": [
      "['melionas', 'bananas', 'abrikosas', 'kriause', 'kivis', 'persimonas']\n"
     ]
    }
   ],
   "source": [
    "#4.4\n",
    "sarasas.remove('obuolys')\n",
    "print(sarasas)"
   ]
  },
  {
   "cell_type": "code",
   "execution_count": 8,
   "metadata": {},
   "outputs": [
    {
     "name": "stdout",
     "output_type": "stream",
     "text": [
      "['melionas', 'bananas', 'kriause', 'kivis', 'persimonas']\n"
     ]
    }
   ],
   "source": [
    "#4.5\n",
    "sarasas.remove('abrikosas')\n",
    "print(sarasas)"
   ]
  },
  {
   "cell_type": "code",
   "execution_count": 9,
   "metadata": {},
   "outputs": [
    {
     "data": {
      "text/plain": [
       "2"
      ]
     },
     "execution_count": 9,
     "metadata": {},
     "output_type": "execute_result"
    }
   ],
   "source": [
    "#4.6\n",
    "sarasas.index('kriause')"
   ]
  },
  {
   "cell_type": "code",
   "execution_count": 10,
   "metadata": {},
   "outputs": [
    {
     "name": "stdout",
     "output_type": "stream",
     "text": [
      "['persimonas', 'kivis', 'kriause', 'bananas', 'melionas']\n"
     ]
    }
   ],
   "source": [
    "#4.7\n",
    "sarasas.reverse()\n",
    "print(sarasas)"
   ]
  },
  {
   "cell_type": "code",
   "execution_count": 11,
   "metadata": {},
   "outputs": [
    {
     "name": "stdout",
     "output_type": "stream",
     "text": [
      "['bananas', 'kivis', 'kriause', 'melionas', 'persimonas']\n"
     ]
    }
   ],
   "source": [
    "#4.8\n",
    "sarasas.sort()\n",
    "print(sarasas)"
   ]
  },
  {
   "cell_type": "code",
   "execution_count": 12,
   "metadata": {},
   "outputs": [
    {
     "name": "stdout",
     "output_type": "stream",
     "text": [
      "5\n"
     ]
    }
   ],
   "source": [
    "#5\n",
    "print(len(sarasas))"
   ]
  },
  {
   "cell_type": "code",
   "execution_count": 13,
   "metadata": {},
   "outputs": [
    {
     "name": "stdout",
     "output_type": "stream",
     "text": [
      "True\n",
      "True\n"
     ]
    }
   ],
   "source": [
    "#6\n",
    "print('melionas' in sarasas)\n",
    "print('kivis' in sarasas)"
   ]
  },
  {
   "attachments": {},
   "cell_type": "markdown",
   "metadata": {},
   "source": [
    "## Žodynas"
   ]
  },
  {
   "cell_type": "code",
   "execution_count": 14,
   "metadata": {},
   "outputs": [
    {
     "name": "stdout",
     "output_type": "stream",
     "text": [
      "{'Dante': 2, 'Niuksas': 12, 'Sabis': 7}\n"
     ]
    }
   ],
   "source": [
    "#1\n",
    "gyvunai = {'Dante' : 2, 'Niuksas' : 12, 'Sabis' : 7}\n",
    "print(gyvunai)"
   ]
  },
  {
   "cell_type": "code",
   "execution_count": 15,
   "metadata": {},
   "outputs": [
    {
     "name": "stdout",
     "output_type": "stream",
     "text": [
      "12\n"
     ]
    }
   ],
   "source": [
    "#2\n",
    "print(gyvunai['Niuksas'])"
   ]
  },
  {
   "cell_type": "code",
   "execution_count": 16,
   "metadata": {},
   "outputs": [
    {
     "name": "stdout",
     "output_type": "stream",
     "text": [
      "{'Dante': 2, 'Niuksas': 12, 'Sabis': 7, 'Micius': 5}\n"
     ]
    }
   ],
   "source": [
    "#3\n",
    "gyvunai['Micius'] = 5\n",
    "print(gyvunai)"
   ]
  },
  {
   "cell_type": "code",
   "execution_count": 17,
   "metadata": {},
   "outputs": [],
   "source": [
    "#4\n",
    "gyvunai['Sabis'] = 10"
   ]
  },
  {
   "cell_type": "code",
   "execution_count": 18,
   "metadata": {},
   "outputs": [
    {
     "name": "stdout",
     "output_type": "stream",
     "text": [
      "{'Dante': 2, 'Sabis': 10, 'Micius': 5}\n"
     ]
    }
   ],
   "source": [
    "#5\n",
    "del gyvunai['Niuksas']\n",
    "print(gyvunai)"
   ]
  },
  {
   "cell_type": "code",
   "execution_count": 19,
   "metadata": {},
   "outputs": [
    {
     "name": "stdout",
     "output_type": "stream",
     "text": [
      "dict_keys(['Dante', 'Sabis', 'Micius'])\n",
      "dict_values([2, 10, 5])\n",
      "dict_items([('Dante', 2), ('Sabis', 10), ('Micius', 5)])\n",
      "None\n"
     ]
    }
   ],
   "source": [
    "#6\n",
    "vardas = gyvunai.keys()\n",
    "print(vardas)\n",
    "amzius = gyvunai.values()\n",
    "print(amzius)\n",
    "gyvunu_sarasas = gyvunai.items()\n",
    "print(gyvunu_sarasas)\n",
    "suo = gyvunai.get(2)\n",
    "print(suo)"
   ]
  },
  {
   "attachments": {},
   "cell_type": "markdown",
   "metadata": {},
   "source": [
    "## For Ciklas"
   ]
  },
  {
   "cell_type": "code",
   "execution_count": 23,
   "metadata": {},
   "outputs": [
    {
     "name": "stdout",
     "output_type": "stream",
     "text": [
      "a\n",
      "b\n",
      "c\n",
      "d\n",
      "e\n",
      "f\n"
     ]
    }
   ],
   "source": [
    "# 1\n",
    "raides = ['a', 'b', 'c', 'd', 'e', 'f']\n",
    "for eiluteje in raides:\n",
    "    print(eiluteje)"
   ]
  },
  {
   "cell_type": "code",
   "execution_count": 33,
   "metadata": {},
   "outputs": [
    {
     "name": "stdout",
     "output_type": "stream",
     "text": [
      "1: labas, simboliu kiekis: 5\n",
      "2: rytas, simboliu kiekis: 5\n",
      "3: studentai, simboliu kiekis: 9\n",
      "4: kaip, simboliu kiekis: 4\n",
      "5: sekasi, simboliu kiekis: 6\n",
      "Žodžių kiekis: 5\n"
     ]
    }
   ],
   "source": [
    "# 2\n",
    "nauji = []\n",
    "for naujas in range(5):\n",
    "    nauji.append(input('Įvesti nauja žodį: '))\n",
    "\n",
    "for numeriai, naujas in enumerate(nauji):\n",
    "    print(f'{numeriai + 1}: {naujas}, simboliu kiekis: {len(naujas)}')\n",
    "print('Žodžių kiekis:', len(nauji))"
   ]
  },
  {
   "cell_type": "code",
   "execution_count": 41,
   "metadata": {},
   "outputs": [
    {
     "name": "stdout",
     "output_type": "stream",
     "text": [
      "Keliamieji metai\n"
     ]
    }
   ],
   "source": [
    "# 3\n",
    "metukai = int(input('Įveskite metus: '))\n",
    "if (metukai % 400 == 0) or (metukai % 100 != 0 and metukai % 4 == 0):\n",
    "    print('Keliamieji metai')\n",
    "else:\n",
    "    print('Nekintamieji metai')"
   ]
  },
  {
   "cell_type": "code",
   "execution_count": 43,
   "metadata": {},
   "outputs": [
    {
     "name": "stdout",
     "output_type": "stream",
     "text": [
      "2000\n",
      "2004\n",
      "2008\n",
      "2012\n",
      "2016\n",
      "2020\n",
      "2024\n",
      "2028\n",
      "2032\n",
      "2036\n",
      "2040\n",
      "2044\n",
      "2048\n",
      "2052\n",
      "2056\n",
      "2060\n",
      "2064\n",
      "2068\n",
      "2072\n",
      "2076\n",
      "2080\n",
      "2084\n",
      "2088\n",
      "2092\n",
      "2096\n"
     ]
    }
   ],
   "source": [
    "#4\n",
    "for metai in range(2000, 2100):\n",
    "    if metai % 400 == 0:\n",
    "        print(metai)\n",
    "    elif metai % 100 == 0:\n",
    "        continue\n",
    "    elif metai % 4 == 0:\n",
    "        print(metai)\n",
    "    else:\n",
    "        continue"
   ]
  },
  {
   "attachments": {},
   "cell_type": "markdown",
   "metadata": {},
   "source": [
    "## While ciklas"
   ]
  },
  {
   "cell_type": "code",
   "execution_count": 44,
   "metadata": {},
   "outputs": [
    {
     "name": "stdout",
     "output_type": "stream",
     "text": [
      "9\n",
      "8\n",
      "7\n",
      "6\n",
      "5\n",
      "4\n",
      "3\n",
      "2\n",
      "1\n",
      "0\n",
      "-1\n"
     ]
    }
   ],
   "source": [
    "#1\n",
    "skaic = 11\n",
    "while skaic > -1:\n",
    "    skaic -= 1\n",
    "    print(skaic)\n",
    "    continue"
   ]
  },
  {
   "cell_type": "code",
   "execution_count": 51,
   "metadata": {},
   "outputs": [
    {
     "name": "stdout",
     "output_type": "stream",
     "text": [
      "4\n",
      "3\n",
      "2\n",
      "1\n",
      "Pratęsiame ciklą, nes pasiektas skaicius 0\n",
      "-1\n",
      "-2\n",
      "-3\n",
      "-4\n",
      "Sustabdomas ciklas,nes pasiektas skaicius -5\n"
     ]
    }
   ],
   "source": [
    "#2\n",
    "sk = 5\n",
    "while sk >= -11:\n",
    "    sk -= 1\n",
    "    if sk == -5:\n",
    "        print('Sustabdomas ciklas,nes pasiektas skaicius -5')\n",
    "        break\n",
    "    elif sk == 0:\n",
    "        print('Pratęsiame ciklą, nes pasiektas skaicius 0')\n",
    "        continue\n",
    "    print(sk)"
   ]
  },
  {
   "cell_type": "code",
   "execution_count": 54,
   "metadata": {},
   "outputs": [
    {
     "name": "stdout",
     "output_type": "stream",
     "text": [
      "18\n"
     ]
    }
   ],
   "source": [
    "sum = 0\n",
    "while True:\n",
    "    skai = int(input('Įveskite teigiama skaiciu'))\n",
    "    if skai < 0:\n",
    "        break\n",
    "    sum += skai\n",
    "print(sum)"
   ]
  },
  {
   "attachments": {},
   "cell_type": "markdown",
   "metadata": {},
   "source": [
    "## Tuples"
   ]
  },
  {
   "cell_type": "code",
   "execution_count": 58,
   "metadata": {},
   "outputs": [
    {
     "name": "stdout",
     "output_type": "stream",
     "text": [
      "<class 'tuple'> ('AC/DC', 'Metalika', 'Ventukai', 'G&G Sindikatas', 'Queans')\n"
     ]
    }
   ],
   "source": [
    "grupes = ('AC/DC', 'Metalika', 'Ventukai', 'G&G Sindikatas', 'Queans')\n",
    "print(type(grupes), grupes)"
   ]
  },
  {
   "cell_type": "code",
   "execution_count": 60,
   "metadata": {},
   "outputs": [
    {
     "name": "stdout",
     "output_type": "stream",
     "text": [
      "('AC/DC', 'Metalika', 'Ventukai', 'G&G Sindikatas', 'Queans', 'AC/DC', 'Metalika', 'Ventukai', 'G&G Sindikatas', 'Queans')\n"
     ]
    }
   ],
   "source": [
    "grupes1 = ('AC/DC', 'Metalika', 'Ventukai', 'G&G Sindikatas', 'Queans')\n",
    "visos_grupes = grupes + grupes1\n",
    "print(visos_grupes)"
   ]
  },
  {
   "cell_type": "code",
   "execution_count": 61,
   "metadata": {},
   "outputs": [
    {
     "name": "stdout",
     "output_type": "stream",
     "text": [
      "AC/DC\n",
      "Ventukai\n",
      "Queans\n"
     ]
    }
   ],
   "source": [
    "print(visos_grupes[0])\n",
    "print(visos_grupes[2])\n",
    "print(visos_grupes[-1])"
   ]
  },
  {
   "cell_type": "code",
   "execution_count": 64,
   "metadata": {},
   "outputs": [
    {
     "name": "stdout",
     "output_type": "stream",
     "text": [
      "('AC/DC', 'Metalika', 'Ventukai', 'G&G Sindikatas', 'Queans', 'AC/DC', 'Metalika', 'Ventukai', 'G&G Sindikatas', 'Queans')\n"
     ]
    }
   ],
   "source": [
    "print(visos_grupes[::1])"
   ]
  },
  {
   "cell_type": "code",
   "execution_count": 68,
   "metadata": {},
   "outputs": [
    {
     "name": "stdout",
     "output_type": "stream",
     "text": [
      "Grupės 'G&G Sindikatas' indeksas yra : 2\n",
      "Grupės 'G&G Sindikatas' indeksas yra:  3\n",
      "False\n"
     ]
    }
   ],
   "source": [
    "kartai = visos_grupes.count('G&G Sindikatas')\n",
    "print(\"Grupės 'G&G Sindikatas' indeksas yra :\", kartai)\n",
    "indexsas = visos_grupes.index('G&G Sindikatas')\n",
    "print(\"Grupės 'G&G Sindikatas' indeksas yra: \", indexsas)\n",
    "print('G&G Pink Floyd' in visos_grupes)"
   ]
  },
  {
   "cell_type": "code",
   "execution_count": 69,
   "metadata": {},
   "outputs": [
    {
     "name": "stdout",
     "output_type": "stream",
     "text": [
      "Ventukai\n",
      "G&G Sindikatas\n",
      "Metalika\n",
      "Queans\n",
      "AC/DC\n"
     ]
    }
   ],
   "source": [
    "unikalios_grupes = tuple(set(visos_grupes))\n",
    "\n",
    "for grupe in unikalios_grupes:\n",
    "  print(grupe)"
   ]
  },
  {
   "attachments": {},
   "cell_type": "markdown",
   "metadata": {},
   "source": [
    "## setai"
   ]
  },
  {
   "cell_type": "code",
   "execution_count": 2,
   "metadata": {},
   "outputs": [
    {
     "name": "stdout",
     "output_type": "stream",
     "text": [
      "{1, 2, 3, 4, 5, 6}\n"
     ]
    }
   ],
   "source": [
    "#1\n",
    "aibe = {1, 2, 3, 4, 5}\n",
    "aibe.add(6)\n",
    "print(aibe)"
   ]
  },
  {
   "cell_type": "code",
   "execution_count": 3,
   "metadata": {},
   "outputs": [
    {
     "name": "stdout",
     "output_type": "stream",
     "text": [
      "{9, 10, 7}\n"
     ]
    }
   ],
   "source": [
    "#2\n",
    "aibe1 = {7, 8, 9,10}\n",
    "aibe1.remove(8)\n",
    "#aibe1.discard(8)\n",
    "print(aibe1)"
   ]
  },
  {
   "cell_type": "code",
   "execution_count": 4,
   "metadata": {},
   "outputs": [
    {
     "name": "stdout",
     "output_type": "stream",
     "text": [
      "set()\n"
     ]
    }
   ],
   "source": [
    "#3\n",
    "visos_aibes = aibe.intersection(aibe1)\n",
    "print(visos_aibes)"
   ]
  },
  {
   "cell_type": "code",
   "execution_count": 5,
   "metadata": {},
   "outputs": [
    {
     "name": "stdout",
     "output_type": "stream",
     "text": [
      "{1, 2, 3, 4, 5, 6}\n"
     ]
    }
   ],
   "source": [
    "#4\n",
    "unikali_aibe = abi_abes = aibe.difference(aibe1)\n",
    "print(unikali_aibe)\n"
   ]
  },
  {
   "cell_type": "code",
   "execution_count": 6,
   "metadata": {},
   "outputs": [
    {
     "name": "stdout",
     "output_type": "stream",
     "text": [
      "{1, 2, 3, 4, 5, 6}\n"
     ]
    }
   ],
   "source": [
    "#5\n",
    "unikali_aibe1 = aibe1.difference(aibe)\n",
    "print(unikali_aibe)"
   ]
  },
  {
   "cell_type": "code",
   "execution_count": 7,
   "metadata": {},
   "outputs": [
    {
     "name": "stdout",
     "output_type": "stream",
     "text": [
      "5 uzduoties aibes elemetai kvadratu: {81, 100, 49}\n"
     ]
    }
   ],
   "source": [
    "#Bonus\n",
    "aibe_kvadratu = {x ** 2 for x in unikali_aibe1}\n",
    "print('5 uzduoties aibes elemetai kvadratu:', aibe_kvadratu)"
   ]
  }
 ],
 "metadata": {
  "kernelspec": {
   "display_name": "venv",
   "language": "python",
   "name": "python3"
  },
  "language_info": {
   "codemirror_mode": {
    "name": "ipython",
    "version": 3
   },
   "file_extension": ".py",
   "mimetype": "text/x-python",
   "name": "python",
   "nbconvert_exporter": "python",
   "pygments_lexer": "ipython3",
   "version": "3.11.1"
  },
  "orig_nbformat": 4
 },
 "nbformat": 4,
 "nbformat_minor": 2
}
